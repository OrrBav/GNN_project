{
 "cells": [
  {
   "cell_type": "code",
   "execution_count": 1,
   "metadata": {},
   "outputs": [],
   "source": [
    "import pandas as pd"
   ]
  },
  {
   "cell_type": "code",
   "execution_count": 2,
   "metadata": {},
   "outputs": [
    {
     "name": "stdout",
     "output_type": "stream",
     "text": [
      "Files in 'original' but not in 'new':\n",
      "{'pool5_S20', 'pool8_S5', 'pool8_S7', 'pool9_S8', 'pool3_S3', 'pool3_S22', 'pool8_S3', 'pool3_S23', 'pool2_S22', 'pool6_S12', 'pool4_S17', 'pool3_S19', 'pool8_S24', 'pool8_S14', 'pool7_S22', 'pool1_S24', 'pool2_S18', 'pool1_S6', 'pool8_S4', 'pool7_S20', 'pool7_S1', 'pool4_S4'}\n"
     ]
    }
   ],
   "source": [
    "# Load the CSV file\n",
    "df = pd.read_csv('/home/dsi/orrbavly/test.csv')\n",
    "\n",
    "# Assuming the file has \"original\" and \"new\" columns\n",
    "original_files = set(df['original'].dropna())\n",
    "new_files = set(df['new'].dropna())\n",
    "\n",
    "# Find the files present in the \"original\" column but not in the \"new\" column\n",
    "files_not_in_new = original_files - new_files\n",
    "\n",
    "# Print the results\n",
    "print(\"Files in 'original' but not in 'new':\")\n",
    "print(files_not_in_new)"
   ]
  },
  {
   "cell_type": "code",
   "execution_count": 7,
   "metadata": {},
   "outputs": [
    {
     "name": "stdout",
     "output_type": "stream",
     "text": [
      "22\n"
     ]
    }
   ],
   "source": [
    "print(len(files_not_in_new))"
   ]
  },
  {
   "cell_type": "code",
   "execution_count": 4,
   "metadata": {},
   "outputs": [],
   "source": [
    "invalid_files = [\n",
    "'pool1_S24', 'pool2_S22', 'pool3_S22', 'pool3_S3', 'pool4_S4', \n",
    "'pool5_S20', 'pool6_S12', 'pool7_S22', 'pool9_S8'\n",
    "]"
   ]
  },
  {
   "cell_type": "code",
   "execution_count": 6,
   "metadata": {},
   "outputs": [
    {
     "name": "stdout",
     "output_type": "stream",
     "text": [
      "['pool8_S5', 'pool8_S7', 'pool8_S3', 'pool3_S23', 'pool4_S17', 'pool3_S19', 'pool8_S24', 'pool8_S14', 'pool2_S18', 'pool1_S6', 'pool8_S4', 'pool7_S20', 'pool7_S1']\n"
     ]
    }
   ],
   "source": [
    "def intersection(lst1, lst2):\n",
    "    lst3 = [value for value in lst1 if value not in lst2]\n",
    "    return lst3\n",
    "\n",
    "valid_files = intersection(files_not_in_new, invalid_files)\n",
    "print(valid_files)"
   ]
  }
 ],
 "metadata": {
  "kernelspec": {
   "display_name": "dl",
   "language": "python",
   "name": "python3"
  },
  "language_info": {
   "codemirror_mode": {
    "name": "ipython",
    "version": 3
   },
   "file_extension": ".py",
   "mimetype": "text/x-python",
   "name": "python",
   "nbconvert_exporter": "python",
   "pygments_lexer": "ipython3",
   "version": "3.9.19"
  }
 },
 "nbformat": 4,
 "nbformat_minor": 2
}
